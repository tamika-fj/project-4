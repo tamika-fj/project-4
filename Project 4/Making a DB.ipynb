{
 "cells": [
  {
   "cell_type": "code",
   "execution_count": 7,
   "id": "2819669a",
   "metadata": {},
   "outputs": [],
   "source": [
    "import pandas as pd\n",
    "import sqlite3"
   ]
  },
  {
   "cell_type": "code",
   "execution_count": 9,
   "id": "63ee04d6",
   "metadata": {},
   "outputs": [],
   "source": [
    "table_schema = \"\"\"\n",
    "CREATE TABLE IF NOT EXISTS\n",
    "DiabetesData (\n",
    "    id INTEGER PRIMARY KEY,\n",
    "    Glucose INTEGER,\n",
    "    BloodPressure INTEGER,\n",
    "    SkinThickness INTEGER,\n",
    "    Insulin INTEGER,\n",
    "    BMI FLOAT,\n",
    "    DiabetesPedigreeFunction FLOAT,\n",
    "    Age INTEGER,\n",
    "    Outcome INTEGER,\n",
    "    BloodPressureRange VARCHAR(20),\n",
    "    GlucoseRange VARCHAR(20),\n",
    "    BMIRange VARCHAR(20),\n",
    "    EncodedBP FLOAT,\n",
    "    EncodedGlucose FLOAT,\n",
    "    EncodedBMI FLOAT\n",
    ");\n",
    "\"\"\""
   ]
  },
  {
   "cell_type": "code",
   "execution_count": 14,
   "id": "ce6977a8",
   "metadata": {},
   "outputs": [],
   "source": [
    "diabetes_df = pd.read_csv('Resources/diabetes_data_with_index.csv')"
   ]
  },
  {
   "cell_type": "code",
   "execution_count": 11,
   "id": "9bda8a27",
   "metadata": {},
   "outputs": [],
   "source": [
    "conn = sqlite3.connect('Diabetes_project.db')"
   ]
  },
  {
   "cell_type": "code",
   "execution_count": 12,
   "id": "2fd47981",
   "metadata": {},
   "outputs": [
    {
     "data": {
      "text/plain": [
       "<sqlite3.Cursor at 0x2332e5ae4c0>"
      ]
     },
     "execution_count": 12,
     "metadata": {},
     "output_type": "execute_result"
    }
   ],
   "source": [
    "cursor = conn.cursor()\n",
    "cursor.executescript(table_schema)"
   ]
  },
  {
   "cell_type": "code",
   "execution_count": 15,
   "id": "1796b0bc",
   "metadata": {},
   "outputs": [
    {
     "data": {
      "text/plain": [
       "768"
      ]
     },
     "execution_count": 15,
     "metadata": {},
     "output_type": "execute_result"
    }
   ],
   "source": [
    "diabetes_df.to_sql('DiabetesData', conn, if_exists='replace', index=False)"
   ]
  },
  {
   "cell_type": "code",
   "execution_count": 16,
   "id": "b219f4ae",
   "metadata": {},
   "outputs": [],
   "source": [
    "conn.commit()\n",
    "conn.close()"
   ]
  },
  {
   "cell_type": "code",
   "execution_count": null,
   "id": "0dab3dd2",
   "metadata": {},
   "outputs": [],
   "source": []
  }
 ],
 "metadata": {
  "kernelspec": {
   "display_name": "Python 3 (ipykernel)",
   "language": "python",
   "name": "python3"
  },
  "language_info": {
   "codemirror_mode": {
    "name": "ipython",
    "version": 3
   },
   "file_extension": ".py",
   "mimetype": "text/x-python",
   "name": "python",
   "nbconvert_exporter": "python",
   "pygments_lexer": "ipython3",
   "version": "3.10.9"
  }
 },
 "nbformat": 4,
 "nbformat_minor": 5
}
