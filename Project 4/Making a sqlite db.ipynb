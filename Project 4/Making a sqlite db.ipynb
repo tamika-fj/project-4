{
 "cells": [
  {
   "cell_type": "code",
   "execution_count": 15,
   "id": "2819669a",
   "metadata": {},
   "outputs": [],
   "source": [
    "import pandas as pd\n",
    "import sqlite3"
   ]
  },
  {
   "cell_type": "code",
   "execution_count": 16,
   "id": "63ee04d6",
   "metadata": {},
   "outputs": [],
   "source": [
    "table_schema = \"\"\"\n",
    "CREATE TABLE IF NOT EXISTS\n",
    "DiabetesData (\n",
    "    id INTEGER PRIMARY KEY,\n",
    "    Glucose INTEGER,\n",
    "    BloodPressure INTEGER,\n",
    "    SkinThickness INTEGER,\n",
    "    Insulin INTEGER,\n",
    "    BMI FLOAT,\n",
    "    DiabetesPedigreeFunction FLOAT,\n",
    "    Age INTEGER,\n",
    "    Outcome INTEGER,\n",
    "    BloodPressureRange VARCHAR(20),\n",
    "    GlucoseRange VARCHAR(20),\n",
    "    BMIRange VARCHAR(20),\n",
    "    EncodedBP FLOAT,\n",
    "    EncodedGlucose FLOAT,\n",
    "    EncodedBMI FLOAT\n",
    ");\n",
    "\"\"\""
   ]
  },
  {
   "cell_type": "code",
   "execution_count": 17,
   "id": "ce6977a8",
   "metadata": {},
   "outputs": [],
   "source": [
    "#Read data from the CSV file\n",
    "diabetes_df = pd.read_csv('Resources/diabetes_data_with_index.csv')"
   ]
  },
  {
   "cell_type": "code",
   "execution_count": 18,
   "id": "9bda8a27",
   "metadata": {},
   "outputs": [],
   "source": [
    "#Create a new SQlite Database\n",
    "conn = sqlite3.connect('Diabetes_project.sqlite')\n",
    "cursor = conn.cursor()"
   ]
  },
  {
   "cell_type": "code",
   "execution_count": 19,
   "id": "8434807d",
   "metadata": {},
   "outputs": [
    {
     "data": {
      "text/plain": [
       "<sqlite3.Cursor at 0x283657cbf40>"
      ]
     },
     "execution_count": 19,
     "metadata": {},
     "output_type": "execute_result"
    }
   ],
   "source": [
    "#execute table schema creation\n",
    "cursor.executescript(table_schema)"
   ]
  },
  {
   "cell_type": "code",
   "execution_count": 20,
   "id": "8684adda",
   "metadata": {},
   "outputs": [
    {
     "data": {
      "text/plain": [
       "768"
      ]
     },
     "execution_count": 20,
     "metadata": {},
     "output_type": "execute_result"
    }
   ],
   "source": [
    "# Insert data from the CSV into the SQLite database\n",
    "diabetes_df.to_sql('DiabetesData', conn, if_exists='replace', index=False)"
   ]
  },
  {
   "cell_type": "code",
   "execution_count": 26,
   "id": "b219f4ae",
   "metadata": {},
   "outputs": [
    {
     "data": {
      "text/plain": [
       "<function Connection.close()>"
      ]
     },
     "execution_count": 26,
     "metadata": {},
     "output_type": "execute_result"
    }
   ],
   "source": [
    "conn.commit()\n",
    "conn.close"
   ]
  },
  {
   "cell_type": "code",
   "execution_count": null,
   "id": "ee5a835a",
   "metadata": {},
   "outputs": [],
   "source": []
  }
 ],
 "metadata": {
  "kernelspec": {
   "display_name": "Python 3 (ipykernel)",
   "language": "python",
   "name": "python3"
  },
  "language_info": {
   "codemirror_mode": {
    "name": "ipython",
    "version": 3
   },
   "file_extension": ".py",
   "mimetype": "text/x-python",
   "name": "python",
   "nbconvert_exporter": "python",
   "pygments_lexer": "ipython3",
   "version": "3.10.9"
  }
 },
 "nbformat": 4,
 "nbformat_minor": 5
}
